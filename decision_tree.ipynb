{
 "cells": [
  {
   "cell_type": "code",
   "execution_count": 189,
   "metadata": {},
   "outputs": [],
   "source": [
    "import numpy as np\n",
    "import pandas as pd\n",
    "import math\n",
    "import time"
   ]
  },
  {
   "cell_type": "code",
   "execution_count": 171,
   "outputs": [],
   "source": [
    "class DecisionTree:\n",
    "    def __init__(self):\n",
    "        self.tree = Node()\n",
    "\n",
    "    def learn(self, X, y, impurity_measure='entropy'):\n",
    "        build_tree(X, y, impurity_measure, self.tree)\n",
    "\n",
    "    def predict(self, x):\n",
    "        return get_prediction_label(x, self.tree)\n",
    "\n",
    "class Data:\n",
    "    def __init__(self, split_value, split_index):\n",
    "        self.split_value = split_value\n",
    "        self.split_index = split_index\n",
    "\n",
    "class Node:\n",
    "    def __init__(self, label=None, data=None):\n",
    "        self.label = label\n",
    "        self.data = data\n",
    "        self.left = None\n",
    "        self.right = None\n",
    "\n",
    "    def is_leaf(self):\n",
    "        if self.left is None and self.right is None:\n",
    "            return True\n",
    "        return False\n",
    "\n",
    "    def add_left(self, node):\n",
    "        if self.left is None:\n",
    "            self.left = node\n",
    "        else:\n",
    "            raise Exception('Left node already has a child')\n",
    "\n",
    "    def add_right(self, node):\n",
    "        if self.right is None:\n",
    "            self.right = node\n",
    "        else:\n",
    "            raise Exception('Right node already has a child')\n",
    "\n",
    "\n",
    "\n"
   ],
   "metadata": {
    "collapsed": false
   }
  },
  {
   "cell_type": "code",
   "execution_count": 172,
   "outputs": [],
   "source": [
    "def get_prediction_label(x, node):\n",
    "    if node.is_leaf():\n",
    "        return node.label\n",
    "    elif x[node.data.split_index] < node.data.split_value:\n",
    "        return get_prediction_label(x, node.left)\n",
    "    else:\n",
    "        return get_prediction_label(x, node.right)\n",
    "\n",
    "def build_tree(X, y, impurity_measure, node):\n",
    "    unique_labels_in_y = set(y)\n",
    "    df = pd.concat([X, y], axis=1)\n",
    "\n",
    "    if len(unique_labels_in_y) == 1:\n",
    "        node.label = y.iloc[0]\n",
    "        return\n",
    "    elif has_identical_feature_values(X):\n",
    "        node.label = get_majority_label(df)\n",
    "        return\n",
    "    else:\n",
    "        split_info = get_feature_with_highest_information_gain(df)\n",
    "\n",
    "        node.data = Data(split_info['split_value'], split_info['split_index'])\n",
    "        node.left = Node()\n",
    "        node.right = Node()\n",
    "\n",
    "        build_tree(split_info['below_split'].iloc[:, :-1], split_info['below_split'].iloc[:, -1], impurity_measure, node.left)\n",
    "        build_tree(split_info['above_split'].iloc[:, :-1], split_info['above_split'].iloc[:, -1], impurity_measure, node.right)\n",
    "\n",
    "def calculate_entropy(data):\n",
    "    labels = data.iloc[:, -1].unique()\n",
    "\n",
    "    total_rows = len(data)\n",
    "    total_entropy = 0\n",
    "    for label in labels:\n",
    "        number_of_rows_with_current_label = len(data.loc[data.iloc[:, -1] == label])\n",
    "        probCurrentLabel = number_of_rows_with_current_label/total_rows\n",
    "\n",
    "        entropy_of_current_label = - probCurrentLabel * math.log2(probCurrentLabel)\n",
    "        total_entropy += entropy_of_current_label\n",
    "\n",
    "    return total_entropy\n",
    "\n",
    "def calculate_information_gain_of_feature(data, columnIndex, split='mean'):\n",
    "    split_value = 0\n",
    "    if split == 'mean':\n",
    "        split_value = data.iloc[:, columnIndex].mean()\n",
    "    elif split == 'median':\n",
    "        split_value = data.iloc[:, columnIndex].median()\n",
    "    else:\n",
    "        raise Exception('Split mode not recognized')\n",
    "\n",
    "    above_split = data.loc[data.iloc[:, columnIndex] >= split_value]\n",
    "    below_split = data.loc[data.iloc[:, columnIndex] < split_value]\n",
    "\n",
    "    entropy_above_split = calculate_entropy(above_split)\n",
    "    entropy_below_split = calculate_entropy(below_split)\n",
    "\n",
    "    information = len(above_split)/len(data) * entropy_above_split + len(below_split)/len(data) * entropy_below_split\n",
    "\n",
    "    information_gain = calculate_entropy(data) - information\n",
    "\n",
    "    split_info = {\n",
    "        \"information_gain\": information_gain,\n",
    "        \"split_value\": split_value,\n",
    "        \"split_index\": columnIndex,\n",
    "        \"above_split\": above_split,\n",
    "        \"below_split\": below_split\n",
    "    }\n",
    "\n",
    "    return split_info\n",
    "\n",
    "def get_feature_with_highest_information_gain(data, split='mean'):\n",
    "    information_gains = []\n",
    "    for i in range(data.shape[1] - 1):\n",
    "        information_gains.append(calculate_information_gain_of_feature(data, i))\n",
    "\n",
    "    obj_with_highest_information_gain = information_gains[0]\n",
    "    for i in range(1, len(information_gains)):\n",
    "        if information_gains[i][\"information_gain\"] > obj_with_highest_information_gain[\"information_gain\"]:\n",
    "            obj_with_highest_information_gain = information_gains[i]\n",
    "\n",
    "    return obj_with_highest_information_gain\n",
    "\n",
    "def has_identical_feature_values(X):\n",
    "    first_row = X.iloc[0, :]\n",
    "    for i in range(1, len(X)):\n",
    "        current_row = X.iloc[i, :]\n",
    "        for j in range(len(current_row)):\n",
    "            if current_row[j] != first_row[j]:\n",
    "                return False\n",
    "\n",
    "    return True\n",
    "\n",
    "def get_majority_label(df):\n",
    "    value_counts = df.iloc[:, -1].value_counts()\n",
    "    return value_counts.sort_values(ascending=False).keys()[0]"
   ],
   "metadata": {
    "collapsed": false
   }
  },
  {
   "cell_type": "code",
   "execution_count": 182,
   "outputs": [],
   "source": [
    "data = pd.read_csv('testData.csv', header=None)\n",
    "data = pd.read_csv('magic04.data', header=None)"
   ],
   "metadata": {
    "collapsed": false
   }
  },
  {
   "cell_type": "code",
   "execution_count": 149,
   "outputs": [
    {
     "data": {
      "text/plain": "' h'"
     },
     "execution_count": 149,
     "metadata": {},
     "output_type": "execute_result"
    }
   ],
   "source": [
    "y = data.iloc[:, -1]\n",
    "y.iloc[0]"
   ],
   "metadata": {
    "collapsed": false
   }
  },
  {
   "cell_type": "code",
   "execution_count": 190,
   "outputs": [
    {
     "name": "stdout",
     "output_type": "stream",
     "text": [
      "Time to train:  70.21099090576172\n"
     ]
    }
   ],
   "source": [
    "dt = DecisionTree()\n",
    "\n",
    "X = data.iloc[:, :-1]\n",
    "y = data.iloc[:, -1]\n",
    "\n",
    "start = time.time()\n",
    "dt.learn(X, y)\n",
    "end = time.time()\n",
    "print('Time to train: ', (end - start))"
   ],
   "metadata": {
    "collapsed": false
   }
  },
  {
   "cell_type": "code",
   "execution_count": 188,
   "metadata": {},
   "outputs": [
    {
     "data": {
      "text/plain": "'g'"
     },
     "execution_count": 188,
     "metadata": {},
     "output_type": "execute_result"
    }
   ],
   "source": [
    "x = data.iloc[0, :]\n",
    "dt.predict(x)\n",
    "#Read data\n",
    "# df = pd.read_csv('magic04.data', header=None)\n",
    "#\n",
    "# X = df.iloc[:, :10]\n",
    "# y = df.iloc[:, 10]\n",
    "\n"
   ]
  },
  {
   "cell_type": "code",
   "execution_count": null,
   "outputs": [],
   "source": [],
   "metadata": {
    "collapsed": false
   }
  }
 ],
 "metadata": {
  "kernelspec": {
   "display_name": "Python 3.8.10 64-bit",
   "language": "python",
   "name": "python3"
  },
  "language_info": {
   "codemirror_mode": {
    "name": "ipython",
    "version": 3
   },
   "file_extension": ".py",
   "mimetype": "text/x-python",
   "name": "python",
   "nbconvert_exporter": "python",
   "pygments_lexer": "ipython3",
   "version": "3.8.10"
  },
  "orig_nbformat": 4,
  "vscode": {
   "interpreter": {
    "hash": "31f2aee4e71d21fbe5cf8b01ff0e069b9275f58929596ceb00d14d90e3e16cd6"
   }
  }
 },
 "nbformat": 4,
 "nbformat_minor": 2
}
