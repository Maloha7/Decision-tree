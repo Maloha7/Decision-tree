{
 "cells": [
  {
   "cell_type": "code",
   "execution_count": 1,
   "metadata": {},
   "outputs": [],
   "source": [
    "import numpy as np\n",
    "import pandas as pd\n",
    "import math"
   ]
  },
  {
   "cell_type": "code",
   "execution_count": null,
   "outputs": [],
   "source": [
    "class DecisionTree:\n",
    "    def __init__(self):\n",
    "        self.root = Node()\n",
    "\n",
    "    def learn(self, X, y, impurity_measure='entropy'):\n",
    "        unique_labels_in_y = set(y)\n",
    "        df = pd.concat([X, y], axis=1)\n",
    "\n",
    "        if len(unique_labels_in_y) == 1:\n",
    "            return Node(y[0])\n",
    "        elif has_identical_feature_values(X):\n",
    "            majority_label = get_majority_label(df)\n",
    "            return Node(majority_label)\n",
    "\n",
    "        else:\n",
    "            obj = get_feature_with_highest_information_gain(df)\n",
    "\n",
    "\n",
    "            # self.root.add_left(self.root, obj[\"below_split\"], obj[\"split_value\"], obj[\"split_index\"])\n",
    "            # self.root.add_left(self.root, obj[\"above_split\"], obj[\"split_value\"], obj[\"split_index\"])\n",
    "\n",
    "    def predict(x):\n",
    "        ...\n",
    "\n",
    "\n",
    "class Node:\n",
    "    def __init__(self, parent_node=None, data=None, split_value=None, split_index=None):\n",
    "        self.parent_node = parent_node\n",
    "        self.data = data\n",
    "        self.split_value = split_value\n",
    "        self.split_index = split_index\n",
    "        self.left = None\n",
    "        self.right = None\n",
    "\n",
    "    def is_leaf(self):\n",
    "        if self.left is None and self.right is None:\n",
    "            return True\n",
    "        return False\n",
    "\n",
    "    def add_left(self, node):\n",
    "        if self.left is None:\n",
    "            self.left = node\n",
    "        else:\n",
    "            raise Exception('Left node already has a child')\n",
    "\n",
    "    def add_right(self, node):\n",
    "        if self.right is None:\n",
    "            self.right = node\n",
    "        else:\n",
    "            raise Exception('Right node already has a child')\n",
    "\n",
    "\n",
    "\n"
   ],
   "metadata": {
    "collapsed": false,
    "pycharm": {
     "name": "#%%\n"
    }
   }
  },
  {
   "cell_type": "code",
   "execution_count": null,
   "outputs": [],
   "source": [
    "def calculate_impurity(data, impurity_measure):\n",
    "    labels = data.iloc[:, -1].unique()\n",
    "\n",
    "    total_rows = len(data)\n",
    "    total_entropy = 0\n",
    "    for label in labels:\n",
    "        number_of_rows_with_current_label = len(data.loc[data.iloc[:, -1] == label])\n",
    "        prob_current_label = number_of_rows_with_current_label/total_rows\n",
    "\n",
    "        if impurity_measure == \"entropy\":\n",
    "            entropy_of_current_label = - prob_current_label * math.log2(prob_current_label)\n",
    "            total_entropy += entropy_of_current_label\n",
    "\n",
    "        if impurity_measure == \"gini\":\n",
    "            entropy_of_current_label = 1 - (prob_current_label**2)\n",
    "            total_entropy += entropy_of_current_label\n",
    "\n",
    "\n",
    "    return total_entropy\n",
    "\n",
    "def calculate_information_gain_of_feature(data, column_index, split='mean'):\n",
    "    split_value = 0\n",
    "    if split == 'mean':\n",
    "        split_value = data.iloc[:, column_index].mean()\n",
    "    elif split == 'median':\n",
    "        split_value = data.iloc[:, column_index].median()\n",
    "    else:\n",
    "        raise Exception('Split mode not recognized')\n",
    "\n",
    "    above_split = data.loc[data.iloc[:, column_index] >= split_value]\n",
    "    below_split = data.loc[data.iloc[:, column_index] < split_value]\n",
    "\n",
    "    entropy_above_split = calculate_impurity(above_split, \"entropy\")\n",
    "    entropy_below_split = calculate_impurity(below_split, \"entropy\")\n",
    "\n",
    "    information = len(above_split)/len(data) * entropy_above_split + len(below_split)/len(data) * entropy_below_split\n",
    "\n",
    "    information_gain = calculate_impurity(data, \"entropy\") - information\n",
    "\n",
    "    obj = {\n",
    "        \"information_gain\": information_gain,\n",
    "        \"split_value\": split_value,\n",
    "        \"split_index\": column_index,\n",
    "        \"above_split\": above_split,\n",
    "        \"below_split\": below_split\n",
    "    }\n",
    "\n",
    "    return obj\n",
    "\n",
    "def get_feature_with_highest_information_gain(data, split='mean'):\n",
    "    information_gains = []\n",
    "    for i in range(data.shape[1] - 1):\n",
    "        information_gains.append(calculate_information_gain_of_feature(data, i))\n",
    "\n",
    "    obj_with_highest_information_gain = information_gains[0]\n",
    "    for i in range(1, len(information_gains)):\n",
    "        if information_gains[i][\"information_gain\"] > obj_with_highest_information_gain[\"information_gain\"]:\n",
    "            obj_with_highest_information_gain = information_gains[i]\n",
    "\n",
    "    return obj_with_highest_information_gain\n",
    "\n",
    "def has_identical_feature_values(X):\n",
    "    first_row = X.iloc[0, :]\n",
    "    for i in range(1, len(X)):\n",
    "        current_row = X.iloc[i, :]\n",
    "        for j in range(len(current_row)):\n",
    "            if current_row[j] != first_row[j]:\n",
    "                return False\n",
    "\n",
    "    return True\n",
    "\n",
    "def get_majority_label(df):\n",
    "    value_counts = df.iloc[:, -1].value_counts()\n",
    "    return value_counts.sort_values(ascending=False).keys()[0]\n",
    "\n"
   ],
   "metadata": {
    "collapsed": false,
    "pycharm": {
     "name": "#%%\n"
    }
   }
  },
  {
   "cell_type": "code",
   "execution_count": null,
   "outputs": [],
   "source": [
    "data = pd.read_csv('testData.csv', header=None)"
   ],
   "metadata": {
    "collapsed": false,
    "pycharm": {
     "name": "#%%\n"
    }
   }
  },
  {
   "cell_type": "code",
   "execution_count": null,
   "outputs": [],
   "source": [
    "get_majority_label(data)"
   ],
   "metadata": {
    "collapsed": false,
    "pycharm": {
     "name": "#%%\n"
    }
   }
  },
  {
   "cell_type": "code",
   "execution_count": null,
   "outputs": [],
   "source": [
    "dt = DecisionTree()\n",
    "\n",
    "X = data.iloc[:, :-1]\n",
    "y = data.iloc[:, -1]\n",
    "dt.learn(X, y)"
   ],
   "metadata": {
    "collapsed": false,
    "pycharm": {
     "name": "#%%\n"
    }
   }
  },
  {
   "cell_type": "code",
   "execution_count": null,
   "outputs": [],
   "source": [
    "#Read data\n",
    "# df = pd.read_csv('magic04.data', header=None)\n",
    "#\n",
    "# X = df.iloc[:, :10]\n",
    "# y = df.iloc[:, 10]\n",
    "\n"
   ],
   "metadata": {
    "collapsed": false,
    "pycharm": {
     "name": "#%%\n"
    }
   }
  }
 ],
 "metadata": {
  "kernelspec": {
   "display_name": "Python 3.8.10 64-bit",
   "language": "python",
   "name": "python3"
  },
  "language_info": {
   "codemirror_mode": {
    "name": "ipython",
    "version": 3
   },
   "file_extension": ".py",
   "mimetype": "text/x-python",
   "name": "python",
   "nbconvert_exporter": "python",
   "pygments_lexer": "ipython3",
   "version": "3.8.10"
  },
  "orig_nbformat": 4,
  "vscode": {
   "interpreter": {
    "hash": "31f2aee4e71d21fbe5cf8b01ff0e069b9275f58929596ceb00d14d90e3e16cd6"
   }
  }
 },
 "nbformat": 4,
 "nbformat_minor": 2
}