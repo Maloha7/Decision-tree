{
 "cells": [
  {
   "cell_type": "code",
   "execution_count": 1,
   "metadata": {},
   "outputs": [],
   "source": [
    "import numpy as np\n",
    "import pandas as pd\n",
    "import math"
   ]
  },
  {
   "cell_type": "code",
   "execution_count": 14,
   "outputs": [],
   "source": [
    "class DecisionTree:\n",
    "    def __init__(self):\n",
    "        self.root = Node()\n",
    "\n",
    "    def learn(self, X, y, impurity_measure='entropy'):\n",
    "        unique_labels_in_y = set(y)\n",
    "        df = pd.concat([X, y], axis=1)\n",
    "\n",
    "        if len(unique_labels_in_y) == 1:\n",
    "            return Node(y[0])\n",
    "        elif has_identical_feature_values(X):\n",
    "            majority_label = get_majority_label(df)\n",
    "            return Node(majority_label)\n",
    "\n",
    "        else:\n",
    "            obj = get_feature_with_highest_information_gain(df)\n",
    "\n",
    "\n",
    "            # self.root.add_left(self.root, obj[\"below_split\"], obj[\"split_value\"], obj[\"split_index\"])\n",
    "            # self.root.add_left(self.root, obj[\"above_split\"], obj[\"split_value\"], obj[\"split_index\"])\n",
    "\n",
    "    def predict(x):\n",
    "        ...\n",
    "\n",
    "\n",
    "class Node:\n",
    "    def __init__(self, parent_node=None, data=None, split_value=None, split_index=None):\n",
    "        self.parent_node = parent_node\n",
    "        self.data = data\n",
    "        self.split_value = split_value\n",
    "        self.split_index = split_index\n",
    "        self.left = None\n",
    "        self.right = None\n",
    "\n",
    "    def is_leaf(self):\n",
    "        if self.left is None and self.right is None:\n",
    "            return True\n",
    "        return False\n",
    "\n",
    "    def add_left(self, node):\n",
    "        if self.left is None:\n",
    "            self.left = node\n",
    "        else:\n",
    "            raise Exception('Left node already has a child')\n",
    "\n",
    "    def add_right(self, node):\n",
    "        if self.right is None:\n",
    "            self.right = node\n",
    "        else:\n",
    "            raise Exception('Right node already has a child')\n",
    "\n",
    "\n",
    "\n"
   ],
   "metadata": {
    "collapsed": false
   }
  },
  {
   "cell_type": "code",
   "execution_count": 82,
   "outputs": [],
   "source": [
    "def calculate_entropy(data):\n",
    "    labels = data.iloc[:, -1].unique()\n",
    "\n",
    "    total_rows = len(data)\n",
    "    total_entropy = 0\n",
    "    for label in labels:\n",
    "        number_of_rows_with_current_label = len(data.loc[data.iloc[:, -1] == label])\n",
    "        probCurrentLabel = number_of_rows_with_current_label/total_rows\n",
    "\n",
    "        entropy_of_current_label = - probCurrentLabel * math.log2(probCurrentLabel)\n",
    "        total_entropy += entropy_of_current_label\n",
    "\n",
    "    return total_entropy\n",
    "\n",
    "def calculate_information_gain_of_feature(data, columnIndex, split='mean'):\n",
    "    split_value = 0\n",
    "    if split == 'mean':\n",
    "        split_value = data.iloc[:, columnIndex].mean()\n",
    "    elif split == 'median':\n",
    "        split_value = data.iloc[:, columnIndex].median()\n",
    "    else:\n",
    "        raise Exception('Split mode not recognized')\n",
    "\n",
    "    above_split = data.loc[data.iloc[:, columnIndex] >= split_value]\n",
    "    below_split = data.loc[data.iloc[:, columnIndex] < split_value]\n",
    "\n",
    "    entropy_above_split = calculate_entropy(above_split)\n",
    "    entropy_below_split = calculate_entropy(below_split)\n",
    "\n",
    "    information = len(above_split)/len(data) * entropy_above_split + len(below_split)/len(data) * entropy_below_split\n",
    "\n",
    "    information_gain = calculate_entropy(data) - information\n",
    "\n",
    "    obj = {\n",
    "        \"information_gain\": information_gain,\n",
    "        \"split_value\": split_value,\n",
    "        \"split_index\": columnIndex,\n",
    "        \"above_split\": above_split,\n",
    "        \"below_split\": below_split\n",
    "    }\n",
    "\n",
    "    return obj\n",
    "\n",
    "def get_feature_with_highest_information_gain(data, split='mean'):\n",
    "    information_gains = []\n",
    "    for i in range(data.shape[1] - 1):\n",
    "        information_gains.append(calculate_information_gain_of_feature(data, i))\n",
    "\n",
    "    obj_with_highest_information_gain = information_gains[0]\n",
    "    for i in range(1, len(information_gains)):\n",
    "        if information_gains[i][\"information_gain\"] > obj_with_highest_information_gain[\"information_gain\"]:\n",
    "            obj_with_highest_information_gain = information_gains[i]\n",
    "\n",
    "    return obj_with_highest_information_gain\n",
    "\n",
    "def has_identical_feature_values(X):\n",
    "    first_row = X.iloc[0, :]\n",
    "    for i in range(1, len(X)):\n",
    "        current_row = X.iloc[i, :]\n",
    "        for j in range(len(current_row)):\n",
    "            if current_row[j] != first_row[j]:\n",
    "                return False\n",
    "\n",
    "    return True\n",
    "\n",
    "def get_majority_label(df):\n",
    "    value_counts = df.iloc[:, -1].value_counts()\n",
    "    return value_counts.sort_values(ascending=False).keys()[0]\n",
    "\n"
   ],
   "metadata": {
    "collapsed": false
   }
  },
  {
   "cell_type": "code",
   "execution_count": 83,
   "outputs": [],
   "source": [
    "data = pd.read_csv('testData.csv', header=None)"
   ],
   "metadata": {
    "collapsed": false
   }
  },
  {
   "cell_type": "code",
   "execution_count": 84,
   "outputs": [
    {
     "data": {
      "text/plain": "' g'"
     },
     "execution_count": 84,
     "metadata": {},
     "output_type": "execute_result"
    }
   ],
   "source": [
    "get_majority_label(data)"
   ],
   "metadata": {
    "collapsed": false
   }
  },
  {
   "cell_type": "code",
   "execution_count": 33,
   "outputs": [
    {
     "ename": "IndexError",
     "evalue": "invalid index to scalar variable.",
     "output_type": "error",
     "traceback": [
      "\u001B[0;31m---------------------------------------------------------------------------\u001B[0m",
      "\u001B[0;31mIndexError\u001B[0m                                Traceback (most recent call last)",
      "Input \u001B[0;32mIn [33]\u001B[0m, in \u001B[0;36m<cell line: 2>\u001B[0;34m()\u001B[0m\n\u001B[1;32m      1\u001B[0m data \u001B[38;5;241m=\u001B[39m pd\u001B[38;5;241m.\u001B[39mread_csv(\u001B[38;5;124m'\u001B[39m\u001B[38;5;124mtestData.csv\u001B[39m\u001B[38;5;124m'\u001B[39m, header\u001B[38;5;241m=\u001B[39m\u001B[38;5;28;01mNone\u001B[39;00m)\n\u001B[0;32m----> 2\u001B[0m \u001B[43mget_majority_label\u001B[49m\u001B[43m(\u001B[49m\u001B[43mdata\u001B[49m\u001B[43m)\u001B[49m\n\u001B[1;32m      4\u001B[0m dt \u001B[38;5;241m=\u001B[39m DecisionTree()\n\u001B[1;32m      6\u001B[0m X \u001B[38;5;241m=\u001B[39m data\u001B[38;5;241m.\u001B[39miloc[:, :\u001B[38;5;241m-\u001B[39m\u001B[38;5;241m1\u001B[39m]\n",
      "Input \u001B[0;32mIn [31]\u001B[0m, in \u001B[0;36mget_majority_label\u001B[0;34m(df)\u001B[0m\n\u001B[1;32m     66\u001B[0m \u001B[38;5;28;01mdef\u001B[39;00m \u001B[38;5;21mget_majority_label\u001B[39m(df):\n\u001B[0;32m---> 67\u001B[0m     \u001B[38;5;28mprint\u001B[39m(df\u001B[38;5;241m.\u001B[39mgroupby[\u001B[43mdf\u001B[49m\u001B[38;5;241;43m.\u001B[39;49m\u001B[43msize\u001B[49m\u001B[43m[\u001B[49m\u001B[38;5;241;43m1\u001B[39;49m\u001B[43m]\u001B[49m]\u001B[38;5;241m.\u001B[39msize())\n",
      "\u001B[0;31mIndexError\u001B[0m: invalid index to scalar variable."
     ]
    }
   ],
   "source": [
    "dt = DecisionTree()\n",
    "\n",
    "X = data.iloc[:, :-1]\n",
    "y = data.iloc[:, -1]\n",
    "dt.learn(X, y)"
   ],
   "metadata": {
    "collapsed": false
   }
  },
  {
   "cell_type": "code",
   "execution_count": 9,
   "metadata": {},
   "outputs": [
    {
     "data": {
      "text/plain": "             0        1       2       3       4         5         6        7   \\\n18749   48.0573  11.0862  2.9571  0.3620  0.1882    0.4200   32.4358  -2.2992   \n3590    23.6860  16.7064  2.5051  0.4594  0.2422   12.9614   19.8390 -16.5257   \n16748   12.8170  12.4276  2.4272  0.5615  0.2889   -8.7830   -7.9135   9.1646   \n344     79.7124  35.2208  3.3244  0.2914  0.1708   10.1771  -28.5291 -18.2423   \n2661    95.2356  33.7887  3.1361  0.2573  0.1436   37.1219  -67.5870 -30.0828   \n2708    21.8507  12.6266  2.2799  0.4777  0.2913   -0.9541    8.9802   2.6535   \n5387    22.1866  12.7100  2.1931  0.6026  0.3301   14.1247   11.2419  -9.5223   \n6686    69.4928  22.4704  2.9845  0.2031  0.1073  -32.0917  -44.3815   9.5467   \n13183   18.7746   9.4864  2.2788  0.6421  0.4395   18.7338   14.6623  -1.9846   \n13616  126.6090  41.9329  3.4610  0.2103  0.1233 -129.0540 -120.0580 -15.7828   \n\n            8         9  10  \n18749  26.9300  165.2240  h  \n3590   23.2110  108.4620  g  \n16748  54.6396   94.1904  h  \n344     2.1290  340.8090  g  \n2661    5.0100  367.4380  g  \n2708   43.7060  215.7010  g  \n5387   74.2280  152.0470  g  \n6686    6.6543  194.3240  g  \n13183  55.6153  217.8830  h  \n13616  29.6115  369.9280  h  ",
      "text/html": "<div>\n<style scoped>\n    .dataframe tbody tr th:only-of-type {\n        vertical-align: middle;\n    }\n\n    .dataframe tbody tr th {\n        vertical-align: top;\n    }\n\n    .dataframe thead th {\n        text-align: right;\n    }\n</style>\n<table border=\"1\" class=\"dataframe\">\n  <thead>\n    <tr style=\"text-align: right;\">\n      <th></th>\n      <th>0</th>\n      <th>1</th>\n      <th>2</th>\n      <th>3</th>\n      <th>4</th>\n      <th>5</th>\n      <th>6</th>\n      <th>7</th>\n      <th>8</th>\n      <th>9</th>\n      <th>10</th>\n    </tr>\n  </thead>\n  <tbody>\n    <tr>\n      <th>18749</th>\n      <td>48.0573</td>\n      <td>11.0862</td>\n      <td>2.9571</td>\n      <td>0.3620</td>\n      <td>0.1882</td>\n      <td>0.4200</td>\n      <td>32.4358</td>\n      <td>-2.2992</td>\n      <td>26.9300</td>\n      <td>165.2240</td>\n      <td>h</td>\n    </tr>\n    <tr>\n      <th>3590</th>\n      <td>23.6860</td>\n      <td>16.7064</td>\n      <td>2.5051</td>\n      <td>0.4594</td>\n      <td>0.2422</td>\n      <td>12.9614</td>\n      <td>19.8390</td>\n      <td>-16.5257</td>\n      <td>23.2110</td>\n      <td>108.4620</td>\n      <td>g</td>\n    </tr>\n    <tr>\n      <th>16748</th>\n      <td>12.8170</td>\n      <td>12.4276</td>\n      <td>2.4272</td>\n      <td>0.5615</td>\n      <td>0.2889</td>\n      <td>-8.7830</td>\n      <td>-7.9135</td>\n      <td>9.1646</td>\n      <td>54.6396</td>\n      <td>94.1904</td>\n      <td>h</td>\n    </tr>\n    <tr>\n      <th>344</th>\n      <td>79.7124</td>\n      <td>35.2208</td>\n      <td>3.3244</td>\n      <td>0.2914</td>\n      <td>0.1708</td>\n      <td>10.1771</td>\n      <td>-28.5291</td>\n      <td>-18.2423</td>\n      <td>2.1290</td>\n      <td>340.8090</td>\n      <td>g</td>\n    </tr>\n    <tr>\n      <th>2661</th>\n      <td>95.2356</td>\n      <td>33.7887</td>\n      <td>3.1361</td>\n      <td>0.2573</td>\n      <td>0.1436</td>\n      <td>37.1219</td>\n      <td>-67.5870</td>\n      <td>-30.0828</td>\n      <td>5.0100</td>\n      <td>367.4380</td>\n      <td>g</td>\n    </tr>\n    <tr>\n      <th>2708</th>\n      <td>21.8507</td>\n      <td>12.6266</td>\n      <td>2.2799</td>\n      <td>0.4777</td>\n      <td>0.2913</td>\n      <td>-0.9541</td>\n      <td>8.9802</td>\n      <td>2.6535</td>\n      <td>43.7060</td>\n      <td>215.7010</td>\n      <td>g</td>\n    </tr>\n    <tr>\n      <th>5387</th>\n      <td>22.1866</td>\n      <td>12.7100</td>\n      <td>2.1931</td>\n      <td>0.6026</td>\n      <td>0.3301</td>\n      <td>14.1247</td>\n      <td>11.2419</td>\n      <td>-9.5223</td>\n      <td>74.2280</td>\n      <td>152.0470</td>\n      <td>g</td>\n    </tr>\n    <tr>\n      <th>6686</th>\n      <td>69.4928</td>\n      <td>22.4704</td>\n      <td>2.9845</td>\n      <td>0.2031</td>\n      <td>0.1073</td>\n      <td>-32.0917</td>\n      <td>-44.3815</td>\n      <td>9.5467</td>\n      <td>6.6543</td>\n      <td>194.3240</td>\n      <td>g</td>\n    </tr>\n    <tr>\n      <th>13183</th>\n      <td>18.7746</td>\n      <td>9.4864</td>\n      <td>2.2788</td>\n      <td>0.6421</td>\n      <td>0.4395</td>\n      <td>18.7338</td>\n      <td>14.6623</td>\n      <td>-1.9846</td>\n      <td>55.6153</td>\n      <td>217.8830</td>\n      <td>h</td>\n    </tr>\n    <tr>\n      <th>13616</th>\n      <td>126.6090</td>\n      <td>41.9329</td>\n      <td>3.4610</td>\n      <td>0.2103</td>\n      <td>0.1233</td>\n      <td>-129.0540</td>\n      <td>-120.0580</td>\n      <td>-15.7828</td>\n      <td>29.6115</td>\n      <td>369.9280</td>\n      <td>h</td>\n    </tr>\n  </tbody>\n</table>\n</div>"
     },
     "execution_count": 9,
     "metadata": {},
     "output_type": "execute_result"
    }
   ],
   "source": [
    "#Read data\n",
    "# df = pd.read_csv('magic04.data', header=None)\n",
    "#\n",
    "# X = df.iloc[:, :10]\n",
    "# y = df.iloc[:, 10]\n",
    "\n"
   ]
  }
 ],
 "metadata": {
  "kernelspec": {
   "display_name": "Python 3.8.10 64-bit",
   "language": "python",
   "name": "python3"
  },
  "language_info": {
   "codemirror_mode": {
    "name": "ipython",
    "version": 3
   },
   "file_extension": ".py",
   "mimetype": "text/x-python",
   "name": "python",
   "nbconvert_exporter": "python",
   "pygments_lexer": "ipython3",
   "version": "3.8.10"
  },
  "orig_nbformat": 4,
  "vscode": {
   "interpreter": {
    "hash": "31f2aee4e71d21fbe5cf8b01ff0e069b9275f58929596ceb00d14d90e3e16cd6"
   }
  }
 },
 "nbformat": 4,
 "nbformat_minor": 2
}
