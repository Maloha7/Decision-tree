{
 "cells": [
  {
   "cell_type": "markdown",
   "metadata": {},
   "source": [
    "# INF264 Project 1:\n",
    "## Implementing decision trees"
   ]
  },
  {
   "cell_type": "markdown",
   "metadata": {},
   "source": [
    "### Introduction\n",
    "This task has been a collaboration between Marius L. Hatland and Sigurd Blakkestad. The division of labor has been about Marius 70% and Sigurd 30%\n",
    "\n",
    "In this report we will explain how we have implemented a decision tree learning algorithm from scratch. We will discuss how we approached the task and which design choices were made."
   ]
  },
  {
   "cell_type": "markdown",
   "metadata": {},
   "source": [
    "### Task 1.1 Implement a decision tree learning algorithm from scratch"
   ]
  },
  {
   "cell_type": "markdown",
   "metadata": {},
   "source": [
    "The first design choice we made was to use the Pandas library for most calculations and data manipulation. We decided this because we are more experienced in using Pandas. While numpy probably would make our algorithm faster, we felt this was an acceptable tradeoff as there was no points to gain from a faster algorithm. "
   ]
  },
  {
   "cell_type": "markdown",
   "metadata": {},
   "source": [
    "To begin implementing the greedy algorithm we first need to implemented the basic data structures needed to build a tree. We have implemented a Node class which will either have a Data class (A class containing information about the split value, split index and majority label) and children nodes or a label if it is a leaf node"
   ]
  },
  {
   "cell_type": "code",
   "execution_count": 1,
   "metadata": {},
   "outputs": [],
   "source": [
    "class Data:\n",
    "    def __init__(self, split_value, split_index, majority_label):\n",
    "        self.split_value = split_value\n",
    "        self.split_index = split_index\n",
    "        self.majority_label = majority_label\n",
    "\n",
    "\n",
    "class Node:\n",
    "    def __init__(self, label=None, data=None):\n",
    "        self.label = label\n",
    "        self.data = data\n",
    "        self.left = None\n",
    "        self.right = None"
   ]
  },
  {
   "cell_type": "code",
   "execution_count": null,
   "metadata": {},
   "outputs": [],
   "source": []
  }
 ],
 "metadata": {
  "kernelspec": {
   "display_name": "Python 3.8.10 64-bit",
   "language": "python",
   "name": "python3"
  },
  "language_info": {
   "codemirror_mode": {
    "name": "ipython",
    "version": 3
   },
   "file_extension": ".py",
   "mimetype": "text/x-python",
   "name": "python",
   "nbconvert_exporter": "python",
   "pygments_lexer": "ipython3",
   "version": "3.8.10"
  },
  "orig_nbformat": 4,
  "vscode": {
   "interpreter": {
    "hash": "31f2aee4e71d21fbe5cf8b01ff0e069b9275f58929596ceb00d14d90e3e16cd6"
   }
  }
 },
 "nbformat": 4,
 "nbformat_minor": 2
}
