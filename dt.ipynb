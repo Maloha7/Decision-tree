{
 "cells": [
  {
   "cell_type": "code",
   "execution_count": 40,
   "metadata": {
    "collapsed": true
   },
   "outputs": [],
   "source": [
    "import numpy as np\n",
    "import pandas as pd\n",
    "import math\n",
    "import time\n",
    "from sklearn.model_selection import train_test_split\n",
    "\n",
    "\n",
    "class DecisionTree:\n",
    "    def __init__(self):\n",
    "        self.tree = Node()\n",
    "\n",
    "    def learn(self, X, y, impurity_measure='entropy', pruning=False):\n",
    "        if pruning:\n",
    "            X_train, X_prune, y_train, y_prune = train_test_split(X, y, test_size=0.25, random_state=42)\n",
    "            build_tree(X_train, y_train, impurity_measure, self.tree)\n",
    "\n",
    "        else:\n",
    "            build_tree(X, y, impurity_measure, self.tree)\n",
    "\n",
    "    def predict(self, X):\n",
    "        predictions = []\n",
    "        for i in range(len(X)):\n",
    "            x = X.iloc[i, :]\n",
    "            predictions.append(get_prediction_label(x, self.tree))\n",
    "        return predictions\n",
    "\n",
    "\n",
    "class Data:\n",
    "    def __init__(self, split_value, split_index, majority_label):\n",
    "        self.split_value = split_value\n",
    "        self.split_index = split_index\n",
    "        self.majority_label = majority_label\n",
    "\n",
    "\n",
    "class Node:\n",
    "    def __init__(self, label=None, data=None):\n",
    "        self.label = label\n",
    "        self.data = data\n",
    "        self.left = None\n",
    "        self.right = None\n",
    "\n",
    "    def is_leaf(self):\n",
    "        if self.left is None and self.right is None:\n",
    "            return True\n",
    "        return False\n",
    "\n",
    "\n",
    "def get_prediction_label(x, node):\n",
    "    if node.is_leaf():\n",
    "        return node.label\n",
    "    elif x[node.data.split_index] < node.data.split_value:\n",
    "        return get_prediction_label(x, node.left)\n",
    "    else:\n",
    "        return get_prediction_label(x, node.right)\n",
    "\n",
    "\n",
    "def prune(X, y, node):\n",
    "    if node.is_leaf():\n",
    "        ...\n",
    "\n",
    "\n",
    "def build_tree(X, y, impurity_measure, node):\n",
    "    unique_labels_in_y = set(y)\n",
    "    df = pd.concat([X, y], axis=1)\n",
    "\n",
    "    if len(unique_labels_in_y) == 1:\n",
    "        node.label = y.iloc[0]\n",
    "        return\n",
    "    elif has_identical_feature_values(X):\n",
    "        node.label = get_majority_label(df)\n",
    "        return\n",
    "    else:\n",
    "        split_info = get_feature_with_highest_information_gain(df, impurity_measure)\n",
    "\n",
    "        node.data = Data(split_info['split_value'], split_info['split_index'], get_majority_label(df))\n",
    "        node.left = Node()\n",
    "        node.right = Node()\n",
    "\n",
    "        X_below = split_info['below_split'].iloc[:, :-1]\n",
    "        y_below = split_info['below_split'].iloc[:, -1]\n",
    "\n",
    "        X_above = split_info['above_split'].iloc[:, :-1]\n",
    "        y_above = split_info['above_split'].iloc[:, -1]\n",
    "\n",
    "        build_tree(X_below, y_below, impurity_measure, node.left)\n",
    "        build_tree(X_above, y_above, impurity_measure, node.right)\n",
    "\n",
    "\n",
    "def calculate_impurity(data, impurity_measure):\n",
    "    labels = data.iloc[:, -1].unique()\n",
    "\n",
    "    total_rows = len(data)\n",
    "    total_impurity = 0\n",
    "    for label in labels:\n",
    "        number_of_rows_with_current_label = len(data.loc[data.iloc[:, -1] == label])\n",
    "        prob_current_label = number_of_rows_with_current_label / total_rows\n",
    "\n",
    "        if impurity_measure == \"entropy\":\n",
    "            entropy_of_current_label = - prob_current_label * math.log2(prob_current_label)\n",
    "            total_impurity += entropy_of_current_label\n",
    "\n",
    "        if impurity_measure == \"gini\":\n",
    "            gini_of_current_label = 1 - (prob_current_label ** 2)\n",
    "            total_impurity += gini_of_current_label\n",
    "\n",
    "    return total_impurity\n",
    "\n",
    "\n",
    "def calculate_information_gain_of_feature(data, column_index, split, impurity_measure):\n",
    "    split_value = 0\n",
    "    if split == 'mean':\n",
    "        split_value = data.iloc[:, column_index].mean()\n",
    "    elif split == 'median':\n",
    "        split_value = data.iloc[:, column_index].median()\n",
    "    else:\n",
    "        raise Exception('Split mode not recognized')\n",
    "\n",
    "    above_split = data.loc[data.iloc[:, column_index] >= split_value]\n",
    "    below_split = data.loc[data.iloc[:, column_index] < split_value]\n",
    "\n",
    "    impurity_above_split = calculate_impurity(above_split, impurity_measure=impurity_measure)\n",
    "    impurity_below_split = calculate_impurity(below_split, impurity_measure=impurity_measure)\n",
    "\n",
    "    information = len(above_split) / len(data) * impurity_above_split + len(below_split) / len(\n",
    "        data) * impurity_below_split\n",
    "\n",
    "    information_gain = calculate_impurity(data, impurity_measure=impurity_measure) - information\n",
    "\n",
    "    split_info = {\n",
    "        \"information_gain\": information_gain,\n",
    "        \"split_value\": split_value,\n",
    "        \"split_index\": column_index,\n",
    "        \"above_split\": above_split,\n",
    "        \"below_split\": below_split\n",
    "    }\n",
    "\n",
    "    return split_info\n",
    "\n",
    "\n",
    "def get_feature_with_highest_information_gain(data, impurity_measure, split='mean'):\n",
    "    information_gains = []\n",
    "    for i in range(data.shape[1] - 1):\n",
    "        information_gains.append(\n",
    "            calculate_information_gain_of_feature(data, i, split=split, impurity_measure=impurity_measure))\n",
    "\n",
    "    obj_with_highest_information_gain = information_gains[0]\n",
    "    for i in range(1, len(information_gains)):\n",
    "        if information_gains[i][\"information_gain\"] > obj_with_highest_information_gain[\"information_gain\"]:\n",
    "            obj_with_highest_information_gain = information_gains[i]\n",
    "\n",
    "    return obj_with_highest_information_gain\n",
    "\n",
    "\n",
    "def has_identical_feature_values(X):\n",
    "    first_row = X.iloc[0, :]\n",
    "    for i in range(1, len(X)):\n",
    "        current_row = X.iloc[i, :]\n",
    "        for j in range(len(current_row)):\n",
    "            if current_row[j] != first_row[j]:\n",
    "                return False\n",
    "\n",
    "    return True\n",
    "\n",
    "\n",
    "def get_majority_label(df):\n",
    "    value_counts = df.iloc[:, -1].value_counts()\n",
    "    return value_counts.sort_values(ascending=False).keys()[0]"
   ]
  },
  {
   "cell_type": "code",
   "execution_count": 41,
   "metadata": {
    "collapsed": false
   },
   "outputs": [
    {
     "name": "stdout",
     "output_type": "stream",
     "text": [
      "Time to train:  41.856303691864014\n"
     ]
    }
   ],
   "source": [
    "data = pd.read_csv('magic04.data', header=None)\n",
    "dt = DecisionTree()\n",
    "\n",
    "X = data.iloc[:, :-1]\n",
    "y = data.iloc[:, -1]\n",
    "\n",
    "X_train, X_val_test, y_train, y_val_test = train_test_split(X, y, test_size=0.4, random_state=42)\n",
    "X_val, X_test, y_val, y_test = train_test_split(X_val_test, y_val_test, test_size=0.5, random_state=42)\n",
    "\n",
    "start = time.time()\n",
    "dt.learn(X_train, y_train, impurity_measure='gini')\n",
    "end = time.time()\n",
    "print('Time to train: ', (end - start))"
   ]
  },
  {
   "cell_type": "code",
   "execution_count": 51,
   "metadata": {
    "collapsed": false
   },
   "outputs": [],
   "source": [
    "preds = dt.predict(X_val)\n",
    "from sklearn.metrics import accuracy_score\n",
    "accuracy_score(y_val, preds)\n",
    "from sklearn.tree import DecisionTreeClassifier\n",
    "clf = DecisionTreeClassifier(random_state=0)\n",
    "\n",
    "clf.fit(X_train, y_train)\n",
    "preds = clf.predict(X_val)\n",
    "accuracy_score(y_val, preds)"
   ]
  },
  {
   "cell_type": "code",
   "execution_count": 43,
   "metadata": {
    "collapsed": false
   },
   "outputs": [],
   "source": [
    "from sklearn.metrics import accuracy_score"
   ]
  },
  {
   "cell_type": "code",
   "execution_count": 52,
   "metadata": {
    "collapsed": false
   },
   "outputs": [
    {
     "data": {
      "text/plain": [
       "0.794689800210305"
      ]
     },
     "execution_count": 52,
     "metadata": {},
     "output_type": "execute_result"
    }
   ],
   "source": [
    "accuracy_score(y_val, preds)"
   ]
  },
  {
   "cell_type": "code",
   "execution_count": 45,
   "metadata": {
    "collapsed": false
   },
   "outputs": [
    {
     "data": {
      "text/plain": [
       "DecisionTreeClassifier(random_state=0)"
      ]
     },
     "execution_count": 45,
     "metadata": {},
     "output_type": "execute_result"
    }
   ],
   "source": [
    "from sklearn.tree import DecisionTreeClassifier\n",
    "clf = DecisionTreeClassifier(random_state=0)\n",
    "\n",
    "clf.fit(X_train, y_train)"
   ]
  },
  {
   "cell_type": "code",
   "execution_count": 47,
   "metadata": {
    "collapsed": false
   },
   "outputs": [
    {
     "data": {
      "text/plain": [
       "0.8170347003154574"
      ]
     },
     "execution_count": 47,
     "metadata": {},
     "output_type": "execute_result"
    }
   ],
   "source": [
    "preds = clf.predict(X_val)\n",
    "accuracy_score(y_val, preds)"
   ]
  },
  {
   "cell_type": "code",
   "execution_count": null,
   "metadata": {
    "collapsed": false
   },
   "outputs": [],
   "source": []
  }
 ],
 "metadata": {
  "kernelspec": {
   "display_name": "Python 3.8.10 64-bit",
   "language": "python",
   "name": "python3"
  },
  "language_info": {
   "codemirror_mode": {
    "name": "ipython",
    "version": 2
   },
   "file_extension": ".py",
   "mimetype": "text/x-python",
   "name": "python",
   "nbconvert_exporter": "python",
   "pygments_lexer": "ipython2",
   "version": "3.8.10"
  },
  "vscode": {
   "interpreter": {
    "hash": "31f2aee4e71d21fbe5cf8b01ff0e069b9275f58929596ceb00d14d90e3e16cd6"
   }
  }
 },
 "nbformat": 4,
 "nbformat_minor": 0
}
